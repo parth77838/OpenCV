{
 "cells": [
  {
   "cell_type": "code",
   "execution_count": 1,
   "id": "e0f493b7",
   "metadata": {},
   "outputs": [],
   "source": [
    "#SWAPPING CPROPED IMAGES"
   ]
  },
  {
   "cell_type": "code",
   "execution_count": 2,
   "id": "e48472d8",
   "metadata": {},
   "outputs": [],
   "source": [
    "import cv2 as cv\n",
    "import numpy"
   ]
  },
  {
   "cell_type": "code",
   "execution_count": 3,
   "id": "2eb2c7e9",
   "metadata": {},
   "outputs": [],
   "source": [
    "img1=cv.imread('s1.jpg')\n",
    "img2=cv.imread('s2.jpg')"
   ]
  },
  {
   "cell_type": "code",
   "execution_count": 4,
   "id": "9b3a5147",
   "metadata": {},
   "outputs": [
    {
     "data": {
      "text/plain": [
       "(360, 640, 3)"
      ]
     },
     "execution_count": 4,
     "metadata": {},
     "output_type": "execute_result"
    }
   ],
   "source": [
    "img2.shape"
   ]
  },
  {
   "cell_type": "code",
   "execution_count": 5,
   "id": "41a64beb",
   "metadata": {},
   "outputs": [
    {
     "data": {
      "text/plain": [
       "(360, 640, 3)"
      ]
     },
     "execution_count": 5,
     "metadata": {},
     "output_type": "execute_result"
    }
   ],
   "source": [
    "img1.shape"
   ]
  },
  {
   "cell_type": "code",
   "execution_count": 6,
   "id": "57299140",
   "metadata": {},
   "outputs": [],
   "source": [
    "crop_img1=img1[100:200,200:280]\n",
    "img2[0:100,100:180]=crop_img1\n",
    "cv.imshow(\"swapping\",img2)\n",
    "cv.waitKey()\n",
    "cv.destroyAllWindows()"
   ]
  },
  {
   "cell_type": "code",
   "execution_count": 7,
   "id": "9fdcdd86",
   "metadata": {},
   "outputs": [],
   "source": [
    "crop_img2=img2[100:200,200:280]\n",
    "img2[0:100,100:180]=crop_img2\n",
    "cv.imshow(\"swapping\",img2)\n",
    "cv.waitKey()\n",
    "cv.destroyAllWindows()"
   ]
  },
  {
   "cell_type": "code",
   "execution_count": null,
   "id": "b51f630f",
   "metadata": {},
   "outputs": [],
   "source": []
  }
 ],
 "metadata": {
  "kernelspec": {
   "display_name": "Python 3",
   "language": "python",
   "name": "python3"
  },
  "language_info": {
   "codemirror_mode": {
    "name": "ipython",
    "version": 3
   },
   "file_extension": ".py",
   "mimetype": "text/x-python",
   "name": "python",
   "nbconvert_exporter": "python",
   "pygments_lexer": "ipython3",
   "version": "3.8.8"
  }
 },
 "nbformat": 4,
 "nbformat_minor": 5
}
