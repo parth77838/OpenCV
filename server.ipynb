{
 "cells": [
  {
   "cell_type": "code",
   "execution_count": null,
   "id": "899970f5",
   "metadata": {},
   "outputs": [],
   "source": [
    "#SERVER PROAGRAM"
   ]
  },
  {
   "cell_type": "code",
   "execution_count": null,
   "id": "0bfd133a",
   "metadata": {},
   "outputs": [],
   "source": [
    "import socket,cv2,pickle,struct\n",
    "server_socket=socket.socket(socket.AF_INET,socket.SOCK_STREAM)\n",
    "host_name=socket.gethostname()\n",
    "host_ip=socket.gethostbyname(host_name)\n",
    "print(\"HOST IP:\",host_ip)\n",
    "port=9999\n",
    "socket_address=(host_ip,port)\n",
    "server_socket.bind(socket_address)\n",
    "server_socket.listen(5)\n",
    "print(\"LISTENING AT:\",socket_address)\n",
    "while True:\n",
    "    client_socket,addr=server_socket.accept()\n",
    "    print(\"GOT CONNECTION FROM :\",addr)\n",
    "    if client_socket:\n",
    "        vid=cv2.VideoCapture(0)\n",
    "        while(vid.isOpened()):\n",
    "            img,frame=vid.read()\n",
    "            a=pickle.dumps(frame)\n",
    "            message=struct.pack(\"Q\",len(a))+a\n",
    "            client_socket.sendall(message)\n",
    "            cv2.imshow(\"TRANSMITTING VIDEO\",frame)\n",
    "            key=cv2.waitKey(1) \n",
    "            if key==ord('q'):\n",
    "                client_socket.close()"
   ]
  },
  {
   "cell_type": "code",
   "execution_count": null,
   "id": "c7de414d",
   "metadata": {},
   "outputs": [],
   "source": [
    "import socket\n",
    "socket.recvfrom()"
   ]
  }
 ],
 "metadata": {
  "celltoolbar": "Attachments",
  "kernelspec": {
   "display_name": "Python 3",
   "language": "python",
   "name": "python3"
  },
  "language_info": {
   "codemirror_mode": {
    "name": "ipython",
    "version": 3
   },
   "file_extension": ".py",
   "mimetype": "text/x-python",
   "name": "python",
   "nbconvert_exporter": "python",
   "pygments_lexer": "ipython3",
   "version": "3.8.8"
  }
 },
 "nbformat": 4,
 "nbformat_minor": 5
}
