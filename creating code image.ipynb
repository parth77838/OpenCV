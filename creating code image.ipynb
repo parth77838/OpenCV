{
 "cells": [
  {
   "cell_type": "code",
   "execution_count": 1,
   "id": "53ce61ed",
   "metadata": {},
   "outputs": [],
   "source": [
    "#CREATING AN IMAGE"
   ]
  },
  {
   "cell_type": "code",
   "execution_count": 2,
   "id": "09048047",
   "metadata": {},
   "outputs": [],
   "source": [
    "import cv2"
   ]
  },
  {
   "cell_type": "code",
   "execution_count": 3,
   "id": "a74e6646",
   "metadata": {},
   "outputs": [],
   "source": [
    "import numpy"
   ]
  },
  {
   "cell_type": "code",
   "execution_count": 4,
   "id": "01000bae",
   "metadata": {},
   "outputs": [],
   "source": [
    "cap=numpy.zeros((450,450,3), numpy.uint8)"
   ]
  },
  {
   "cell_type": "code",
   "execution_count": 5,
   "id": "28bc3a62",
   "metadata": {},
   "outputs": [],
   "source": [
    "for i in range (0,150):\n",
    "    for y in range (0,450):\n",
    "        cap[i,y]=[11,133,255]\n",
    "for i in range (150,300):       \n",
    "    for y in range (0,450):\n",
    "        cap[i,y]=[255,255,255]\n",
    "for i in range (300,450):\n",
    "    for y in range (0,450):\n",
    "        cap[i,y]=[0,255,0]\n"
   ]
  },
  {
   "cell_type": "code",
   "execution_count": 6,
   "id": "f07d8706",
   "metadata": {},
   "outputs": [],
   "source": [
    "cv2.imshow('create',cap)\n",
    "cv2.waitKey()\n",
    "cv2.destroyAllWindows()"
   ]
  },
  {
   "cell_type": "code",
   "execution_count": null,
   "id": "3b450eef",
   "metadata": {},
   "outputs": [],
   "source": []
  },
  {
   "cell_type": "code",
   "execution_count": null,
   "id": "64e32d7d",
   "metadata": {},
   "outputs": [],
   "source": []
  }
 ],
 "metadata": {
  "kernelspec": {
   "display_name": "Python 3",
   "language": "python",
   "name": "python3"
  },
  "language_info": {
   "codemirror_mode": {
    "name": "ipython",
    "version": 3
   },
   "file_extension": ".py",
   "mimetype": "text/x-python",
   "name": "python",
   "nbconvert_exporter": "python",
   "pygments_lexer": "ipython3",
   "version": "3.8.8"
  }
 },
 "nbformat": 4,
 "nbformat_minor": 5
}
