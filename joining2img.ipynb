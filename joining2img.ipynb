{
 "cells": [
  {
   "cell_type": "code",
   "execution_count": 1,
   "id": "2c24d52e",
   "metadata": {},
   "outputs": [],
   "source": [
    "#JOINING 2 IMAGES VERTICALLY AND HORIZONTALY"
   ]
  },
  {
   "cell_type": "code",
   "execution_count": 2,
   "id": "8d98c1b9",
   "metadata": {},
   "outputs": [],
   "source": [
    "import cv2 as cv\n",
    "import numpy as np"
   ]
  },
  {
   "cell_type": "code",
   "execution_count": 3,
   "id": "00f85426",
   "metadata": {},
   "outputs": [],
   "source": [
    "img1=cv.imread('s1.jpg')\n",
    "img2=cv.imread('s2.jpg')"
   ]
  },
  {
   "cell_type": "code",
   "execution_count": 4,
   "id": "bfe0122d",
   "metadata": {},
   "outputs": [
    {
     "data": {
      "text/plain": [
       "(360, 640, 3)"
      ]
     },
     "execution_count": 4,
     "metadata": {},
     "output_type": "execute_result"
    }
   ],
   "source": [
    "img2.shape"
   ]
  },
  {
   "cell_type": "code",
   "execution_count": 5,
   "id": "d2a8c9b8",
   "metadata": {},
   "outputs": [
    {
     "data": {
      "text/plain": [
       "(360, 640, 3)"
      ]
     },
     "execution_count": 5,
     "metadata": {},
     "output_type": "execute_result"
    }
   ],
   "source": [
    "img1.shape"
   ]
  },
  {
   "cell_type": "code",
   "execution_count": 6,
   "id": "101e0510",
   "metadata": {},
   "outputs": [],
   "source": [
    "collage=np.hstack((img1,img2))"
   ]
  },
  {
   "cell_type": "code",
   "execution_count": 7,
   "id": "d2d0eaaf",
   "metadata": {},
   "outputs": [],
   "source": [
    "cv.imshow(\"hcollage\",collage)\n",
    "cv.waitKey()\n",
    "cv.destroyAllWindows()"
   ]
  },
  {
   "cell_type": "code",
   "execution_count": 8,
   "id": "bd36e554",
   "metadata": {},
   "outputs": [],
   "source": [
    "collage=np.vstack((img1,img2))"
   ]
  },
  {
   "cell_type": "code",
   "execution_count": 9,
   "id": "dcc336b1",
   "metadata": {},
   "outputs": [],
   "source": [
    "cv.imshow(\"hcollage\",collage)\n",
    "cv.waitKey()\n",
    "cv.destroyAllWindows()"
   ]
  },
  {
   "cell_type": "code",
   "execution_count": null,
   "id": "aa8ce66d",
   "metadata": {},
   "outputs": [],
   "source": []
  }
 ],
 "metadata": {
  "kernelspec": {
   "display_name": "Python 3",
   "language": "python",
   "name": "python3"
  },
  "language_info": {
   "codemirror_mode": {
    "name": "ipython",
    "version": 3
   },
   "file_extension": ".py",
   "mimetype": "text/x-python",
   "name": "python",
   "nbconvert_exporter": "python",
   "pygments_lexer": "ipython3",
   "version": "3.8.8"
  }
 },
 "nbformat": 4,
 "nbformat_minor": 5
}
