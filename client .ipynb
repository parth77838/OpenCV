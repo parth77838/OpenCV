{
 "cells": [
  {
   "cell_type": "code",
   "execution_count": null,
   "id": "89bc0fba",
   "metadata": {},
   "outputs": [],
   "source": [
    "#CLIENT PROAGRAM"
   ]
  },
  {
   "cell_type": "code",
   "execution_count": null,
   "id": "954e2aae",
   "metadata": {},
   "outputs": [],
   "source": [
    "import socket,cv2,pickle,struct\n",
    "\n",
    "client_socket=socket.socket(socket.AF_INET,socket.SOCK_STREAM)\n",
    "host_ip=socket.gethostname()\n",
    "port=9999\n",
    "\n",
    "client_socket.connect((host_ip,port)) #a tuple\n",
    "\n",
    "data=b\"\"\n",
    "buffer=struct.calcsize(\"Q\")\n",
    "\n",
    "while True:\n",
    "    while len(data)<buffer:\n",
    "        packet=client_socket.recv(4*1024) # 4K\n",
    "        if not packet:break\n",
    "        data+=packet\n",
    "    packed_msg_size=data[:buffer]  \n",
    "    data=data[buffer:]\n",
    "    msg_size=struct.unpack(\"Q\",packed_msg_size)[0]\n",
    "    \n",
    "    \n",
    "    while len(data)<msg_size:\n",
    "        data+=client_socket.recv(4*1024) # 4K\n",
    "    frame_data=data[:msg_size]\n",
    "    data=data[msg_size:]\n",
    "    frame=pickle.loads(frame_data)\n",
    "    cv2.imshow(\"RECEIVED\",frame)\n",
    "    key=cv2.waitKey(1) \n",
    "    if key==ord('q'):\n",
    "        break\n",
    "        \n",
    "        \n",
    "client_socket.close()"
   ]
  },
  {
   "cell_type": "code",
   "execution_count": null,
   "id": "89576303",
   "metadata": {},
   "outputs": [],
   "source": []
  }
 ],
 "metadata": {
  "kernelspec": {
   "display_name": "Python 3",
   "language": "python",
   "name": "python3"
  },
  "language_info": {
   "codemirror_mode": {
    "name": "ipython",
    "version": 3
   },
   "file_extension": ".py",
   "mimetype": "text/x-python",
   "name": "python",
   "nbconvert_exporter": "python",
   "pygments_lexer": "ipython3",
   "version": "3.8.8"
  }
 },
 "nbformat": 4,
 "nbformat_minor": 5
}
